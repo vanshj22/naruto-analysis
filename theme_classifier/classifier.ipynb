{
 "cells": [
  {
   "cell_type": "code",
   "execution_count": 1,
   "metadata": {},
   "outputs": [],
   "source": [
    "from transformers import pipeline\n",
    "import nltk\n",
    "from nltk import sent_tokenize\n",
    "import torch #2.5.1+cu121\n",
    "from glob import glob\n",
    "import pandas as pd\n",
    "import numpy as np"
   ]
  },
  {
   "cell_type": "code",
   "execution_count": 2,
   "metadata": {},
   "outputs": [
    {
     "name": "stderr",
     "output_type": "stream",
     "text": [
      "[nltk_data] Downloading package punkt to\n",
      "[nltk_data]     C:\\Users\\VJ\\AppData\\Roaming\\nltk_data...\n",
      "[nltk_data]   Package punkt is already up-to-date!\n",
      "[nltk_data] Downloading package punkt_tab to\n",
      "[nltk_data]     C:\\Users\\VJ\\AppData\\Roaming\\nltk_data...\n",
      "[nltk_data]   Package punkt_tab is already up-to-date!\n"
     ]
    },
    {
     "data": {
      "text/plain": [
       "True"
      ]
     },
     "execution_count": 2,
     "metadata": {},
     "output_type": "execute_result"
    }
   ],
   "source": [
    "nltk.download('punkt')\n",
    "nltk.download('punkt_tab')\n",
    "  "
   ]
  },
  {
   "cell_type": "markdown",
   "metadata": {},
   "source": [
    "## Load Model"
   ]
  },
  {
   "cell_type": "code",
   "execution_count": 3,
   "metadata": {},
   "outputs": [],
   "source": [
    "model_name = \"facebook/bart-large-mnli\"\n",
    "device = 0 if torch.cuda.is_available() else 'cpu'"
   ]
  },
  {
   "cell_type": "code",
   "execution_count": 4,
   "metadata": {},
   "outputs": [
    {
     "data": {
      "text/plain": [
       "0"
      ]
     },
     "execution_count": 4,
     "metadata": {},
     "output_type": "execute_result"
    }
   ],
   "source": [
    "device"
   ]
  },
  {
   "cell_type": "code",
   "execution_count": 5,
   "metadata": {},
   "outputs": [],
   "source": [
    "def load_model(device):\n",
    "    theme_classifier = pipeline('zero-shot-classification', model=model_name, device=device)\n",
    "    return theme_classifier"
   ]
  },
  {
   "cell_type": "code",
   "execution_count": 6,
   "metadata": {},
   "outputs": [
    {
     "name": "stderr",
     "output_type": "stream",
     "text": [
      "Device set to use cuda:0\n"
     ]
    }
   ],
   "source": [
    "classifier = load_model(device)"
   ]
  },
  {
   "cell_type": "code",
   "execution_count": 7,
   "metadata": {},
   "outputs": [],
   "source": [
    "theme_list = [\"friendship\", \"hope\", \"sacrifice\", \"battle\", \"self development\", \"betrayal\",\"love\", \"family\"]"
   ]
  },
  {
   "cell_type": "code",
   "execution_count": 8,
   "metadata": {},
   "outputs": [
    {
     "data": {
      "text/plain": [
       "{'sequence': 'I want to secretly kill my best friend by giving him a right hook then a kick',\n",
       " 'labels': ['family',\n",
       "  'betrayal',\n",
       "  'friendship',\n",
       "  'battle',\n",
       "  'sacrifice',\n",
       "  'self development',\n",
       "  'love',\n",
       "  'hope'],\n",
       " 'scores': [0.9812206029891968,\n",
       "  0.8385915160179138,\n",
       "  0.7063215374946594,\n",
       "  0.4907201826572418,\n",
       "  0.29688456654548645,\n",
       "  0.015588836744427681,\n",
       "  9.531954128760844e-05,\n",
       "  7.946813275339082e-05]}"
      ]
     },
     "execution_count": 8,
     "metadata": {},
     "output_type": "execute_result"
    }
   ],
   "source": [
    "classifier(\"I want to secretly kill my best friend by giving him a right hook then a kick\", theme_list,multi_label=True )\n",
    "# classifier(\"I gave him a right hook then a left jab\", theme_list, multi_label=True)"
   ]
  },
  {
   "cell_type": "markdown",
   "metadata": {},
   "source": [
    "## Load Subtitle dataset"
   ]
  },
  {
   "cell_type": "code",
   "execution_count": 9,
   "metadata": {},
   "outputs": [],
   "source": [
    "files = glob('../data/Subtitles/*.ass')\n"
   ]
  },
  {
   "cell_type": "code",
   "execution_count": 10,
   "metadata": {},
   "outputs": [
    {
     "data": {
      "text/plain": [
       "['../data/Subtitles\\\\Naruto Season 1 - 01.ass',\n",
       " '../data/Subtitles\\\\Naruto Season 1 - 02.ass',\n",
       " '../data/Subtitles\\\\Naruto Season 1 - 03.ass',\n",
       " '../data/Subtitles\\\\Naruto Season 1 - 04.ass',\n",
       " '../data/Subtitles\\\\Naruto Season 1 - 05.ass']"
      ]
     },
     "execution_count": 10,
     "metadata": {},
     "output_type": "execute_result"
    }
   ],
   "source": [
    "files[:5]"
   ]
  },
  {
   "cell_type": "code",
   "execution_count": 11,
   "metadata": {},
   "outputs": [],
   "source": [
    "with open(files[0], 'r') as file:\n",
    "    lines = file.readlines()\n",
    "    lines = lines[27:]\n",
    "    lines = [\",\".join(line.split(',')[9:]) for line in lines]\n"
   ]
  },
  {
   "cell_type": "code",
   "execution_count": 12,
   "metadata": {},
   "outputs": [
    {
     "data": {
      "text/plain": [
       "['A long time ago, a powerful demon fox\\\\Nappeared with nine tails.\\n',\n",
       " 'With its powerful tails,\\n',\n",
       " 'it could smash mountains\\\\Nand create tidal waves.\\n',\n",
       " 'A band of Ninjas rose to\\\\Ndefend their village from attack.\\n',\n",
       " 'We have to wait until\\\\Nthe Fourth Hokage gets here!\\n',\n",
       " \"We can't let it get any closer\\\\Nto our village!\\n\",\n",
       " 'One great Ninja was able to\\\\Nimprison the monster,\\n',\n",
       " 'but died in the process.\\n',\n",
       " 'This Ninja was known as…\\\\Nthe Fourth Hokage.\\n',\n",
       " 'Naruto!\\n']"
      ]
     },
     "execution_count": 12,
     "metadata": {},
     "output_type": "execute_result"
    }
   ],
   "source": [
    "lines[:10]"
   ]
  },
  {
   "cell_type": "code",
   "execution_count": 13,
   "metadata": {},
   "outputs": [],
   "source": [
    "lines= [line.replace('\\\\N',' ') for line in lines]\n"
   ]
  },
  {
   "cell_type": "code",
   "execution_count": 14,
   "metadata": {},
   "outputs": [
    {
     "data": {
      "text/plain": [
       "['A long time ago, a powerful demon fox appeared with nine tails.\\n',\n",
       " 'With its powerful tails,\\n',\n",
       " 'it could smash mountains and create tidal waves.\\n',\n",
       " 'A band of Ninjas rose to defend their village from attack.\\n',\n",
       " 'We have to wait until the Fourth Hokage gets here!\\n',\n",
       " \"We can't let it get any closer to our village!\\n\",\n",
       " 'One great Ninja was able to imprison the monster,\\n',\n",
       " 'but died in the process.\\n',\n",
       " 'This Ninja was known as… the Fourth Hokage.\\n',\n",
       " 'Naruto!\\n',\n",
       " 'Why did you do such a thing?!\\n',\n",
       " \"You're really gonna get it this time!\\n\",\n",
       " \"I don't care!\\n\",\n",
       " 'You know your problem?\\n',\n",
       " \"You can't do the things I do!\\n\",\n",
       " 'Only I can do this!\\n',\n",
       " \"I'm better than all of you! Believe it!\\n\",\n",
       " \"There's a problem, sir!\\n\",\n",
       " 'Lord Hokage!\\n',\n",
       " 'What is it?\\n',\n",
       " 'Did that Naruto do something again?\\n',\n",
       " 'Yes. He climbed onto the Mountainside Images…\\n',\n",
       " 'And he vandalized and graffitied all over them!\\n',\n",
       " 'Wait!\\n',\n",
       " 'Ha ha…\\n',\n",
       " 'Why should I?\\n',\n",
       " 'Hey, Naruto!\\n',\n",
       " 'How did you suddenly get here, lruka Sensei?\\n',\n",
       " 'The question is what are you doing here when you should be in class now?\\n',\n",
       " 'Now listen, Naruto.\\n',\n",
       " 'You failed the last graduation test and the one before that.\\n',\n",
       " 'This is no time to be goofing off, you fool!\\n',\n",
       " 'We will have a re-test on the Transformation Jutsu!\\n',\n",
       " 'Even those who already passed will take it!\\n',\n",
       " 'Whaaaat?!\\n',\n",
       " 'Sakura Haruno. Here I go…\\n',\n",
       " 'Transform!\\n',\n",
       " 'OK!\\n',\n",
       " 'I did it!\\n',\n",
       " 'Cha!\\n',\n",
       " 'Did you see that, Sasuke?\\n',\n",
       " 'Next, Sasuke Uchiha.\\n',\n",
       " 'Yes.\\n',\n",
       " 'O-OK.\\n',\n",
       " 'Next, Naruto Uzumaki.\\n',\n",
       " 'This is a real pain.\\n',\n",
       " \"And it's all your fault.\\n\",\n",
       " 'Like I care!!\\n',\n",
       " 'OK…\\n',\n",
       " 'Good luck, Naruto…\\n',\n",
       " 'Transform!\\n',\n",
       " 'How was it?\\n',\n",
       " 'I call it the \"Sexy Jutsu\"!\\n',\n",
       " 'You fool! Stop making idiotic spells!\\n',\n",
       " 'Darn…\\n',\n",
       " 'Darn…\\n',\n",
       " \"I won't let you go home unless you clean that all up.\\n\",\n",
       " \"I don't care…\\n\",\n",
       " \"There's nobody home anyway.\\n\",\n",
       " 'Naruto...\\n',\n",
       " 'What is it this time?\\n',\n",
       " 'What I meant was…\\n',\n",
       " \"If you clean up all that mess, I'll buy you ramen tonight.\\n\",\n",
       " 'Huh?!\\n',\n",
       " 'Yes! I-I will finish it no time!\\n',\n",
       " 'Enter: Naruto Uzumaki!\\n',\n",
       " 'Naruto.\\n',\n",
       " 'Why did you vandalize those faces?\\n',\n",
       " \"Don't you know who the Hokage leaders are?\\n\",\n",
       " 'Of course, I do!\\n',\n",
       " 'I know they earned the title Lord Hokage\\n',\n",
       " 'because they were the best Ninja of their time, right?\\n',\n",
       " 'Especially the Fourth Hokage was a hero\\n',\n",
       " 'who saved the village from the nine-tail demon fox.\\n',\n",
       " 'Then why did you do that?\\n',\n",
       " \"Because I'll become a Hokage myself.\\n\",\n",
       " \"And I'll be the greatest Hokage of all time!\\n\",\n",
       " 'So that everyone will finally learn to accept me!\\n',\n",
       " 'By the way, Sensei, I have a favor to ask.\\n',\n",
       " 'You want another bowl?\\n',\n",
       " 'Mmmm…No…\\n',\n",
       " 'Can I borrow that Leaf headband for a while?\\n',\n",
       " 'This?\\n',\n",
       " 'No no!\\n',\n",
       " 'This is worn only by those who have graduated from Ninja Academy.\\n',\n",
       " 'Tomorrow, you will…\\n',\n",
       " \"You're so mean!\\n\",\n",
       " \"So that's why you took off your goggles…\\n\",\n",
       " 'Humph... One more bowl please!\\n',\n",
       " 'We are now about to begin the graduation test.\\n',\n",
       " 'When your name is called, proceed to the next classroom.\\n',\n",
       " 'The test is on the Clone Jutsu.\\n',\n",
       " 'Oh no…\\n',\n",
       " 'Of all the…! That is my weakest Jutsu!\\n',\n",
       " 'But still… I will do it no matter what!\\n',\n",
       " 'Clone Jutsu!\\n',\n",
       " 'Disqualified!\\n',\n",
       " 'Iruka Sensei.\\n',\n",
       " 'His physical coordination and stamina are excellent.\\n',\n",
       " 'And he managed to come up with something.\\n',\n",
       " \"Isn't that enough for him to pass?\\n\",\n",
       " 'Mizuki Sensei... All the others created three or more clones.\\n',\n",
       " 'Naruto created just one.\\n',\n",
       " \"And it's practically useless. I can't give him a passing mark.\\n\",\n",
       " \"I 'm a Ninja now!\\n\",\n",
       " \"You did well. That's my son.\\n\",\n",
       " 'Congratulations for your graduation.\\n',\n",
       " \"I'll cook something good tonight!\\n\",\n",
       " 'Look at that one.\\n',\n",
       " \"It's that boy. I hear he's the only one who failed.\\n\",\n",
       " 'Serves him right.\\n',\n",
       " 'Imagine what would happen if he became a Ninja.\\n',\n",
       " \"Isn't that the boy who is actually…\\n\",\n",
       " \"Hey! We're not supposed to talk about that.\\n\",\n",
       " 'Iruka. We need to talk later.\\n',\n",
       " 'Yes, sir.\\n',\n",
       " \"Iruka Sensei isn't trying to be mean to you.\\n\",\n",
       " 'Then why only me?\\n',\n",
       " 'He wants you to become strong from the bottom of his heart.\\n',\n",
       " \"You both don't have parents.\\n\",\n",
       " 'But I really wanted to graduate.\\n',\n",
       " 'Heh... I guess I have no choice…\\n',\n",
       " \"I'll let you in on a big secret.\\n\",\n",
       " 'Secret?\\n',\n",
       " 'Iruka.\\n',\n",
       " 'What is it, Lord Hokage?\\n',\n",
       " 'I know how you feel. But…\\n',\n",
       " 'Naruto also grew up without knowing the love of his parents…like you.\\n',\n",
       " 'Let me go!\\n',\n",
       " 'My mom and dad are still out there fighting!\\n',\n",
       " 'Wake up, Iruka Sensei!\\n',\n",
       " \"What's the matter?\\n\",\n",
       " \"Come to Lord Hokage's immediately!\\n\",\n",
       " 'I heard that Naruto… stole the Scroll of Sealing.\\n',\n",
       " 'The Scroll of Sealing?!\\n',\n",
       " \"Let's see…\\n\",\n",
       " 'The first Jutsu is… Multi-Shadow Clone Jutsu?\\n',\n",
       " \"What?! Already a Jutsu I'm no good at?\\n\",\n",
       " \"Lord Hokage! We can't forgive him!\\n\",\n",
       " 'This is not just a prank!\\n',\n",
       " 'The Scroll is a dangerous item that the First Hokage sealed!\\n',\n",
       " 'Depending on its use…\\n',\n",
       " 'It will be a major disaster if it is taken out of the village!\\n',\n",
       " 'Yes. Bring Naruto here at once!\\n',\n",
       " 'Yes, sir!\\n',\n",
       " 'Where did you go…Naruto?\\n',\n",
       " 'I will tell everyone in the village about this and eliminate Naruto…\\n',\n",
       " 'Then the Scroll of Sealing will be mine!\\n',\n",
       " 'Hey you, Naruto!\\n',\n",
       " 'You found me..\\n',\n",
       " \"And I've only learned one Jutsu.\\n\",\n",
       " \"He's been practicing the Jutsu…\\n\",\n",
       " \"until he's become this exhausted and dirty…?\\n\",\n",
       " \"Listen, listen! I'm gonna show you this amazing Jutsu!\\n\",\n",
       " \"You're gonna let me graduate if I can do it!\\n\",\n",
       " \"Isn't it true that I can graduate if I can do one of the Jutsu written here?\\n\",\n",
       " 'Who told you that?\\n',\n",
       " 'Mizuki Sensei. He told me about this scroll, and this place…\\n',\n",
       " 'Mizuki did?!\\n',\n",
       " \"I'm impressed you found this place.\\n\",\n",
       " 'I see now…how it is.\\n',\n",
       " 'Naruto, give me that scroll.\\n',\n",
       " \"Wait, wait… What's going on here?\\n\",\n",
       " 'Naruto! Never give him that scroll!\\n',\n",
       " 'It is a dangerous object that contains forbidden Ninja Jutsu. It was sealed.\\n',\n",
       " 'Mizuki used you in order to get it for himself!\\n',\n",
       " 'W-Wha--?\\n',\n",
       " 'Naruto, Iruka is only afraid of you holding that scroll!\\n',\n",
       " 'Huh?\\n',\n",
       " \"What are you saying, Mizuki! Don't let him fool you, Naruto!\\n\",\n",
       " 'I will tell you the truth.\\n',\n",
       " \"Idiot! Don't do that!\\n\",\n",
       " 'After an incident 12 years ago, a rule was created.\\n',\n",
       " 'A rule?\\n',\n",
       " 'That is, Naruto, a rule everybody but you knows.\\n',\n",
       " 'Except me?! \\t\\t\\t\\t\\tWhat is it?\\n',\n",
       " 'Stop it, Mizuki!\\n',\n",
       " 'The rule forbids anyone from revealing that you are actually the Demon Fox Spirit!\\n',\n",
       " 'Huh?\\n',\n",
       " 'You are actually the Demon, Nine-Tailed Fox Spirit,\\n',\n",
       " \"who killed Iruka's parents and destroyed our village!\\n\",\n",
       " 'Stop it!\\n',\n",
       " 'Everyone has been deceiving you ever since.\\n',\n",
       " \"Didn't you find it strange?\\n\",\n",
       " 'Why everyone hated you so much?\\n',\n",
       " 'No! No! No! No! No!\\n',\n",
       " 'Naruto…\\n',\n",
       " \"Nobody accepts you. That's why Iruka hates you so much!\\n\",\n",
       " 'Iruka... Naruto grew up without the love of parents.\\n',\n",
       " 'Everyone avoids him like the plague after what happened.\\n',\n",
       " \"That's why he keeps misbehaving.\\n\",\n",
       " \"It's the only way for him to get any attention or acknowledgement.\\n\",\n",
       " 'He pretends to be tough, but inside he is really hurting.\\n',\n",
       " 'Die, Naruto!\\n',\n",
       " 'Naruto! \\t\\t\\t\\t\\tGet down!\\n',\n",
       " 'Why…?\\n',\n",
       " 'Because you and I are the same.\\n',\n",
       " 'After my parents died,\\n',\n",
       " 'nobody paid attention to me or gave me any support.\\n',\n",
       " \"I wasn't a good student in school.\\n\",\n",
       " 'I was the class clown… because I wanted people to notice me.\\n',\n",
       " \"I couldn't get noticed through excellence, so I kept doing stupid things.\\n\",\n",
       " 'It was so hard.\\n',\n",
       " \"Isn't that right, Naruto?\\n\",\n",
       " 'You felt so lonely…right? And you suffered inside, right?\\n',\n",
       " \"I'm sorry, Naruto….\\n\",\n",
       " \"If I had been more responsible, maybe you wouldn't have suffered so much.\\n\",\n",
       " \"Don't make me laugh!\\n\",\n",
       " 'Iruka has always hated you, ever since you killed his parents!\\n',\n",
       " \"He's just saying all that to get the Scroll of Sealing back!\\n\",\n",
       " 'Naruto!\\n',\n",
       " 'Narutoooooo!\\n',\n",
       " 'He is not the type of kid who will change his mind.\\n',\n",
       " 'He will take revenge against our village using that scroll!\\n',\n",
       " \"Didn't you see his eyes? Those are the eyes of a Demon Fox.\\n\",\n",
       " \"No… Naruto…isn't…like that at all!\\n\",\n",
       " 'All I want is to kill Naruto and get the scroll.\\n',\n",
       " \"I'll take care of you later!\\n\",\n",
       " \"I-I won't let you…\\n\",\n",
       " 'Well, well.\\n',\n",
       " 'Mizuki has a big mouth!\\n',\n",
       " \"Naruto feels worse than he's ever felt.\\n\",\n",
       " 'He might unleash the power locked up inside him.\\n',\n",
       " 'The Scroll of Sealing is now with him.\\n',\n",
       " \"There's a slight chance he might actually release\\n\",\n",
       " 'the Nine-Tailed Fox Spirit sealed inside him!\\n',\n",
       " 'If that happens…\\n',\n",
       " \"I've found him!\\n\",\n",
       " 'Naruto!\\n',\n",
       " 'Everything that Mizuki said was a lie!\\n',\n",
       " 'Give me that scroll, quick! Mizuki is after the scroll!\\n',\n",
       " \"It can't be…\\n\",\n",
       " 'Why is it, Naruto?\\n',\n",
       " 'How…\\n',\n",
       " \"did you know I wasn't Iruka…?\\n\",\n",
       " \"Because I'm Iruka.\\n\",\n",
       " 'I see.\\n',\n",
       " \"What's in it for you to protect the one who killed your family?\\n\",\n",
       " \"I'm not gonna let a stupid idiot like you get that scroll!\\n\",\n",
       " \"You're the idiot. Naruto is the same as me.\\n\",\n",
       " 'Same?\\n',\n",
       " 'Anyone can do whatever he wants once he has the scroll.\\n',\n",
       " 'There is no way that that monster…\\n',\n",
       " \"that Fox Spirit, won't take advantage of the power of that scroll!\\n\",\n",
       " \"You're right…\\n\",\n",
       " 'I guess it was true all along!\\n',\n",
       " 'See, Iruka Sensei never really cared for me at all!\\n',\n",
       " '...if he was the Demon Fox Spirit.\\n',\n",
       " 'But Naruto is different!\\n',\n",
       " 'I know that he is an exceptional student.\\n',\n",
       " 'He works very hard,\\n',\n",
       " \"and he's single-minded and clumsy at the same time.\\n\",\n",
       " 'No one accepts him, but he knows the meaning of human suffering.\\n',\n",
       " 'He is not the Demon Fox Spirit.\\n',\n",
       " \"He's Naruto Uzumaki of the Village Hidden in the Leaves!\\n\",\n",
       " 'You are so gullible. \\t\\t\\t\\t\\tlruka!\\n',\n",
       " 'I was gonna take you down later, but I have changed my mind.\\n',\n",
       " 'Die!\\n',\n",
       " 'I guess this is the end for me…\\n',\n",
       " 'Naruto?!\\n',\n",
       " 'You surprised me there, freak.\\n',\n",
       " \"If you ever lay a hand on Iruka Sensei, I'll kill you!\\n\",\n",
       " 'Shut up! I can take care of a kid like you with a single blow!\\n',\n",
       " \"Why don't you try then? I'll strike you back a thousand-fold!\\n\",\n",
       " \"Let's see you try! Show me what you can do, Demon Fox!\\n\",\n",
       " 'Shadow Clone Jutsu!\\n',\n",
       " \"Naruto! You've…\\n\",\n",
       " \"Those aren't just images but actual clones! That's an advanced Ninjutsu!\\n\",\n",
       " \"What's this…?\\n\",\n",
       " \"What's the matter? \\t\\t\\t\\t\\tC'mon!\\n\",\n",
       " \"Weren't you gonna get me with one blow? Here!\\n\",\n",
       " \"In that case… I'll come to you.\\n\",\n",
       " 'I kinda got carried away. lruka Sensei, are you okay?\\n',\n",
       " 'Yeah.\\n',\n",
       " \"He's really something.\\n\",\n",
       " 'Maybe it is true.\\n',\n",
       " 'Maybe he will surpass all the Hokage leaders…\\n',\n",
       " \"Naruto, come over here. I'd like to give you something.\\n\",\n",
       " 'Has anyone found Naruto yet?\\n',\n",
       " 'No.\\n',\n",
       " 'Darn, this is going to be bad…\\n',\n",
       " \"There's no need to worry anymore.\\n\",\n",
       " 'Lord Hokage!\\n',\n",
       " \"He'll be back soon.\\n\",\n",
       " 'Sensei, how much longer?\\n',\n",
       " 'OK, you may open your eyes now.\\n',\n",
       " 'Congratulations…on your graduation.\\n',\n",
       " \"In celebration, we'll have ramen tonight!\\n\",\n",
       " 'Iruka Sensei!\\n',\n",
       " 'That hurts!\\n',\n",
       " 'Naruto…\\n',\n",
       " 'I was going to lecture to you...\\n',\n",
       " \"that the road gets more difficult now that you're a Ninja.\\n\",\n",
       " \"But I guess I'll just wait to tell you that until we get to the ramen stand…\\n\",\n",
       " 'W-What do you want, you little shrimp? Quit following me!\\n',\n",
       " \"You're smaller than me and\\n\",\n",
       " \"you're saying that you're gonna become the Fifth Hokage?\\n\",\n",
       " \"I don't care if you are the 3rd Hokage's grandson or not.\\n\",\n",
       " \"It's not that easy to be a Hokage!\\n\",\n",
       " \"If you want it that bad, you're gonna have to beat me first!\\n\",\n",
       " 'Next episode:  \"My Name Is Konohamaru!\"\\n',\n",
       " 'Watch my outstanding performance!\\n']"
      ]
     },
     "execution_count": 14,
     "metadata": {},
     "output_type": "execute_result"
    }
   ],
   "source": [
    "lines"
   ]
  },
  {
   "cell_type": "code",
   "execution_count": 15,
   "metadata": {},
   "outputs": [
    {
     "data": {
      "text/plain": [
       "\"A long time ago, a powerful demon fox appeared with nine tails.\\n With its powerful tails,\\n it could smash mountains and create tidal waves.\\n A band of Ninjas rose to defend their village from attack.\\n We have to wait until the Fourth Hokage gets here!\\n We can't let it get any closer to our village!\\n One great Ninja was able to imprison the monster,\\n but died in the process.\\n This Ninja was known as… the Fourth Hokage.\\n Naruto!\\n\""
      ]
     },
     "execution_count": 15,
     "metadata": {},
     "output_type": "execute_result"
    }
   ],
   "source": [
    "\" \".join(lines[:10])"
   ]
  },
  {
   "cell_type": "code",
   "execution_count": 16,
   "metadata": {},
   "outputs": [
    {
     "data": {
      "text/plain": [
       "1"
      ]
     },
     "execution_count": 16,
     "metadata": {},
     "output_type": "execute_result"
    }
   ],
   "source": [
    "int(files[0].split('-')[-1].split('.')[0].strip()) # to get episode num"
   ]
  },
  {
   "cell_type": "code",
   "execution_count": 17,
   "metadata": {},
   "outputs": [],
   "source": [
    "def load_subtitle_dataset(dataset_path):\n",
    "    subtitles_path = glob(dataset_path)\n",
    "    scripts = []\n",
    "    episode_list = []\n",
    "\n",
    "    for path in subtitles_path:    \n",
    "        with open(path, 'r') as file:\n",
    "            lines = file.readlines()\n",
    "            lines = lines[27:]\n",
    "            lines = [\",\".join(line.split(',')[9:]) for line in lines]\n",
    "\n",
    "        lines= [line.replace('\\\\N',' ') for line in lines]\n",
    "\n",
    "        script = \" \".join(lines)\n",
    "\n",
    "        episode_num = int(path.split('-')[-1].split('.')[0].strip()) # to get episode num\n",
    "\n",
    "\n",
    "        scripts.append(script)\n",
    "        episode_list.append(episode_num)\n",
    "        \n",
    "    df = pd.DataFrame.from_dict({\"episode\":episode_list, \"script\":scripts})\n",
    "    return df\n"
   ]
  },
  {
   "cell_type": "code",
   "execution_count": 18,
   "metadata": {},
   "outputs": [],
   "source": [
    "dataset_path = \"../data/Subtitles/*.ass\"\n",
    "df = load_subtitle_dataset(dataset_path)"
   ]
  },
  {
   "cell_type": "code",
   "execution_count": 19,
   "metadata": {},
   "outputs": [
    {
     "data": {
      "text/html": [
       "<div>\n",
       "<style scoped>\n",
       "    .dataframe tbody tr th:only-of-type {\n",
       "        vertical-align: middle;\n",
       "    }\n",
       "\n",
       "    .dataframe tbody tr th {\n",
       "        vertical-align: top;\n",
       "    }\n",
       "\n",
       "    .dataframe thead th {\n",
       "        text-align: right;\n",
       "    }\n",
       "</style>\n",
       "<table border=\"1\" class=\"dataframe\">\n",
       "  <thead>\n",
       "    <tr style=\"text-align: right;\">\n",
       "      <th></th>\n",
       "      <th>episode</th>\n",
       "      <th>script</th>\n",
       "    </tr>\n",
       "  </thead>\n",
       "  <tbody>\n",
       "    <tr>\n",
       "      <th>0</th>\n",
       "      <td>1</td>\n",
       "      <td>A long time ago, a powerful demon fox appeared...</td>\n",
       "    </tr>\n",
       "    <tr>\n",
       "      <th>1</th>\n",
       "      <td>2</td>\n",
       "      <td>C'mon!\\n Running like a fugitive,\\n Being chas...</td>\n",
       "    </tr>\n",
       "    <tr>\n",
       "      <th>2</th>\n",
       "      <td>3</td>\n",
       "      <td>C'mon!\\n Running like a fugitive,\\n Being chas...</td>\n",
       "    </tr>\n",
       "    <tr>\n",
       "      <th>3</th>\n",
       "      <td>4</td>\n",
       "      <td>C'mon!\\n Running like a fugitive,\\n Being chas...</td>\n",
       "    </tr>\n",
       "    <tr>\n",
       "      <th>4</th>\n",
       "      <td>5</td>\n",
       "      <td>C'mon!\\n Running like a fugitive,\\n Being chas...</td>\n",
       "    </tr>\n",
       "    <tr>\n",
       "      <th>...</th>\n",
       "      <td>...</td>\n",
       "      <td>...</td>\n",
       "    </tr>\n",
       "    <tr>\n",
       "      <th>213</th>\n",
       "      <td>216</td>\n",
       "      <td>Summoning Jutsu!\\n Oh, long time no see.\\n We ...</td>\n",
       "    </tr>\n",
       "    <tr>\n",
       "      <th>214</th>\n",
       "      <td>217</td>\n",
       "      <td>Gaara.\\n Kankuro.\\n Gaara.\\n Primary Lotus!\\n ...</td>\n",
       "    </tr>\n",
       "    <tr>\n",
       "      <th>215</th>\n",
       "      <td>218</td>\n",
       "      <td>To think the Leaf’s reinforcements will be you...</td>\n",
       "    </tr>\n",
       "    <tr>\n",
       "      <th>216</th>\n",
       "      <td>219</td>\n",
       "      <td>Fly into the wavy and twisted sky, into your h...</td>\n",
       "    </tr>\n",
       "    <tr>\n",
       "      <th>217</th>\n",
       "      <td>220</td>\n",
       "      <td>So this is the Shukaku?\\n It’s the first time ...</td>\n",
       "    </tr>\n",
       "  </tbody>\n",
       "</table>\n",
       "<p>218 rows × 2 columns</p>\n",
       "</div>"
      ],
      "text/plain": [
       "     episode                                             script\n",
       "0          1  A long time ago, a powerful demon fox appeared...\n",
       "1          2  C'mon!\\n Running like a fugitive,\\n Being chas...\n",
       "2          3  C'mon!\\n Running like a fugitive,\\n Being chas...\n",
       "3          4  C'mon!\\n Running like a fugitive,\\n Being chas...\n",
       "4          5  C'mon!\\n Running like a fugitive,\\n Being chas...\n",
       "..       ...                                                ...\n",
       "213      216  Summoning Jutsu!\\n Oh, long time no see.\\n We ...\n",
       "214      217  Gaara.\\n Kankuro.\\n Gaara.\\n Primary Lotus!\\n ...\n",
       "215      218  To think the Leaf’s reinforcements will be you...\n",
       "216      219  Fly into the wavy and twisted sky, into your h...\n",
       "217      220  So this is the Shukaku?\\n It’s the first time ...\n",
       "\n",
       "[218 rows x 2 columns]"
      ]
     },
     "execution_count": 19,
     "metadata": {},
     "output_type": "execute_result"
    }
   ],
   "source": [
    "df"
   ]
  },
  {
   "cell_type": "code",
   "execution_count": 68,
   "metadata": {},
   "outputs": [
    {
     "data": {
      "text/plain": [
       "'A long time ago, a powerful demon fox appeared with nine tails.\\n With its powerful tails,\\n it could smash mountains and create tidal waves.\\n A band of Ninjas rose to defend their village from attack.\\n We have to wait until the Fourth Hokage gets here!\\n We can\\'t let it get any closer to our village!\\n One great Ninja was able to imprison the monster,\\n but died in the process.\\n This Ninja was known as… the Fourth Hokage.\\n Naruto!\\n Why did you do such a thing?!\\n You\\'re really gonna get it this time!\\n I don\\'t care!\\n You know your problem?\\n You can\\'t do the things I do!\\n Only I can do this!\\n I\\'m better than all of you! Believe it!\\n There\\'s a problem, sir!\\n Lord Hokage!\\n What is it?\\n Did that Naruto do something again?\\n Yes. He climbed onto the Mountainside Images…\\n And he vandalized and graffitied all over them!\\n Wait!\\n Ha ha…\\n Why should I?\\n Hey, Naruto!\\n How did you suddenly get here, lruka Sensei?\\n The question is what are you doing here when you should be in class now?\\n Now listen, Naruto.\\n You failed the last graduation test and the one before that.\\n This is no time to be goofing off, you fool!\\n We will have a re-test on the Transformation Jutsu!\\n Even those who already passed will take it!\\n Whaaaat?!\\n Sakura Haruno. Here I go…\\n Transform!\\n OK!\\n I did it!\\n Cha!\\n Did you see that, Sasuke?\\n Next, Sasuke Uchiha.\\n Yes.\\n O-OK.\\n Next, Naruto Uzumaki.\\n This is a real pain.\\n And it\\'s all your fault.\\n Like I care!!\\n OK…\\n Good luck, Naruto…\\n Transform!\\n How was it?\\n I call it the \"Sexy Jutsu\"!\\n You fool! Stop making idiotic spells!\\n Darn…\\n Darn…\\n I won\\'t let you go home unless you clean that all up.\\n I don\\'t care…\\n There\\'s nobody home anyway.\\n Naruto...\\n What is it this time?\\n What I meant was…\\n If you clean up all that mess, I\\'ll buy you ramen tonight.\\n Huh?!\\n Yes! I-I will finish it no time!\\n Enter: Naruto Uzumaki!\\n Naruto.\\n Why did you vandalize those faces?\\n Don\\'t you know who the Hokage leaders are?\\n Of course, I do!\\n I know they earned the title Lord Hokage\\n because they were the best Ninja of their time, right?\\n Especially the Fourth Hokage was a hero\\n who saved the village from the nine-tail demon fox.\\n Then why did you do that?\\n Because I\\'ll become a Hokage myself.\\n And I\\'ll be the greatest Hokage of all time!\\n So that everyone will finally learn to accept me!\\n By the way, Sensei, I have a favor to ask.\\n You want another bowl?\\n Mmmm…No…\\n Can I borrow that Leaf headband for a while?\\n This?\\n No no!\\n This is worn only by those who have graduated from Ninja Academy.\\n Tomorrow, you will…\\n You\\'re so mean!\\n So that\\'s why you took off your goggles…\\n Humph... One more bowl please!\\n We are now about to begin the graduation test.\\n When your name is called, proceed to the next classroom.\\n The test is on the Clone Jutsu.\\n Oh no…\\n Of all the…! That is my weakest Jutsu!\\n But still… I will do it no matter what!\\n Clone Jutsu!\\n Disqualified!\\n Iruka Sensei.\\n His physical coordination and stamina are excellent.\\n And he managed to come up with something.\\n Isn\\'t that enough for him to pass?\\n Mizuki Sensei... All the others created three or more clones.\\n Naruto created just one.\\n And it\\'s practically useless. I can\\'t give him a passing mark.\\n I \\'m a Ninja now!\\n You did well. That\\'s my son.\\n Congratulations for your graduation.\\n I\\'ll cook something good tonight!\\n Look at that one.\\n It\\'s that boy. I hear he\\'s the only one who failed.\\n Serves him right.\\n Imagine what would happen if he became a Ninja.\\n Isn\\'t that the boy who is actually…\\n Hey! We\\'re not supposed to talk about that.\\n Iruka. We need to talk later.\\n Yes, sir.\\n Iruka Sensei isn\\'t trying to be mean to you.\\n Then why only me?\\n He wants you to become strong from the bottom of his heart.\\n You both don\\'t have parents.\\n But I really wanted to graduate.\\n Heh... I guess I have no choice…\\n I\\'ll let you in on a big secret.\\n Secret?\\n Iruka.\\n What is it, Lord Hokage?\\n I know how you feel. But…\\n Naruto also grew up without knowing the love of his parents…like you.\\n Let me go!\\n My mom and dad are still out there fighting!\\n Wake up, Iruka Sensei!\\n What\\'s the matter?\\n Come to Lord Hokage\\'s immediately!\\n I heard that Naruto… stole the Scroll of Sealing.\\n The Scroll of Sealing?!\\n Let\\'s see…\\n The first Jutsu is… Multi-Shadow Clone Jutsu?\\n What?! Already a Jutsu I\\'m no good at?\\n Lord Hokage! We can\\'t forgive him!\\n This is not just a prank!\\n The Scroll is a dangerous item that the First Hokage sealed!\\n Depending on its use…\\n It will be a major disaster if it is taken out of the village!\\n Yes. Bring Naruto here at once!\\n Yes, sir!\\n Where did you go…Naruto?\\n I will tell everyone in the village about this and eliminate Naruto…\\n Then the Scroll of Sealing will be mine!\\n Hey you, Naruto!\\n You found me..\\n And I\\'ve only learned one Jutsu.\\n He\\'s been practicing the Jutsu…\\n until he\\'s become this exhausted and dirty…?\\n Listen, listen! I\\'m gonna show you this amazing Jutsu!\\n You\\'re gonna let me graduate if I can do it!\\n Isn\\'t it true that I can graduate if I can do one of the Jutsu written here?\\n Who told you that?\\n Mizuki Sensei. He told me about this scroll, and this place…\\n Mizuki did?!\\n I\\'m impressed you found this place.\\n I see now…how it is.\\n Naruto, give me that scroll.\\n Wait, wait… What\\'s going on here?\\n Naruto! Never give him that scroll!\\n It is a dangerous object that contains forbidden Ninja Jutsu. It was sealed.\\n Mizuki used you in order to get it for himself!\\n W-Wha--?\\n Naruto, Iruka is only afraid of you holding that scroll!\\n Huh?\\n What are you saying, Mizuki! Don\\'t let him fool you, Naruto!\\n I will tell you the truth.\\n Idiot! Don\\'t do that!\\n After an incident 12 years ago, a rule was created.\\n A rule?\\n That is, Naruto, a rule everybody but you knows.\\n Except me?! \\t\\t\\t\\t\\tWhat is it?\\n Stop it, Mizuki!\\n The rule forbids anyone from revealing that you are actually the Demon Fox Spirit!\\n Huh?\\n You are actually the Demon, Nine-Tailed Fox Spirit,\\n who killed Iruka\\'s parents and destroyed our village!\\n Stop it!\\n Everyone has been deceiving you ever since.\\n Didn\\'t you find it strange?\\n Why everyone hated you so much?\\n No! No! No! No! No!\\n Naruto…\\n Nobody accepts you. That\\'s why Iruka hates you so much!\\n Iruka... Naruto grew up without the love of parents.\\n Everyone avoids him like the plague after what happened.\\n That\\'s why he keeps misbehaving.\\n It\\'s the only way for him to get any attention or acknowledgement.\\n He pretends to be tough, but inside he is really hurting.\\n Die, Naruto!\\n Naruto! \\t\\t\\t\\t\\tGet down!\\n Why…?\\n Because you and I are the same.\\n After my parents died,\\n nobody paid attention to me or gave me any support.\\n I wasn\\'t a good student in school.\\n I was the class clown… because I wanted people to notice me.\\n I couldn\\'t get noticed through excellence, so I kept doing stupid things.\\n It was so hard.\\n Isn\\'t that right, Naruto?\\n You felt so lonely…right? And you suffered inside, right?\\n I\\'m sorry, Naruto….\\n If I had been more responsible, maybe you wouldn\\'t have suffered so much.\\n Don\\'t make me laugh!\\n Iruka has always hated you, ever since you killed his parents!\\n He\\'s just saying all that to get the Scroll of Sealing back!\\n Naruto!\\n Narutoooooo!\\n He is not the type of kid who will change his mind.\\n He will take revenge against our village using that scroll!\\n Didn\\'t you see his eyes? Those are the eyes of a Demon Fox.\\n No… Naruto…isn\\'t…like that at all!\\n All I want is to kill Naruto and get the scroll.\\n I\\'ll take care of you later!\\n I-I won\\'t let you…\\n Well, well.\\n Mizuki has a big mouth!\\n Naruto feels worse than he\\'s ever felt.\\n He might unleash the power locked up inside him.\\n The Scroll of Sealing is now with him.\\n There\\'s a slight chance he might actually release\\n the Nine-Tailed Fox Spirit sealed inside him!\\n If that happens…\\n I\\'ve found him!\\n Naruto!\\n Everything that Mizuki said was a lie!\\n Give me that scroll, quick! Mizuki is after the scroll!\\n It can\\'t be…\\n Why is it, Naruto?\\n How…\\n did you know I wasn\\'t Iruka…?\\n Because I\\'m Iruka.\\n I see.\\n What\\'s in it for you to protect the one who killed your family?\\n I\\'m not gonna let a stupid idiot like you get that scroll!\\n You\\'re the idiot. Naruto is the same as me.\\n Same?\\n Anyone can do whatever he wants once he has the scroll.\\n There is no way that that monster…\\n that Fox Spirit, won\\'t take advantage of the power of that scroll!\\n You\\'re right…\\n I guess it was true all along!\\n See, Iruka Sensei never really cared for me at all!\\n ...if he was the Demon Fox Spirit.\\n But Naruto is different!\\n I know that he is an exceptional student.\\n He works very hard,\\n and he\\'s single-minded and clumsy at the same time.\\n No one accepts him, but he knows the meaning of human suffering.\\n He is not the Demon Fox Spirit.\\n He\\'s Naruto Uzumaki of the Village Hidden in the Leaves!\\n You are so gullible. \\t\\t\\t\\t\\tlruka!\\n I was gonna take you down later, but I have changed my mind.\\n Die!\\n I guess this is the end for me…\\n Naruto?!\\n You surprised me there, freak.\\n If you ever lay a hand on Iruka Sensei, I\\'ll kill you!\\n Shut up! I can take care of a kid like you with a single blow!\\n Why don\\'t you try then? I\\'ll strike you back a thousand-fold!\\n Let\\'s see you try! Show me what you can do, Demon Fox!\\n Shadow Clone Jutsu!\\n Naruto! You\\'ve…\\n Those aren\\'t just images but actual clones! That\\'s an advanced Ninjutsu!\\n What\\'s this…?\\n What\\'s the matter? \\t\\t\\t\\t\\tC\\'mon!\\n Weren\\'t you gonna get me with one blow? Here!\\n In that case… I\\'ll come to you.\\n I kinda got carried away. lruka Sensei, are you okay?\\n Yeah.\\n He\\'s really something.\\n Maybe it is true.\\n Maybe he will surpass all the Hokage leaders…\\n Naruto, come over here. I\\'d like to give you something.\\n Has anyone found Naruto yet?\\n No.\\n Darn, this is going to be bad…\\n There\\'s no need to worry anymore.\\n Lord Hokage!\\n He\\'ll be back soon.\\n Sensei, how much longer?\\n OK, you may open your eyes now.\\n Congratulations…on your graduation.\\n In celebration, we\\'ll have ramen tonight!\\n Iruka Sensei!\\n That hurts!\\n Naruto…\\n I was going to lecture to you...\\n that the road gets more difficult now that you\\'re a Ninja.\\n But I guess I\\'ll just wait to tell you that until we get to the ramen stand…\\n W-What do you want, you little shrimp? Quit following me!\\n You\\'re smaller than me and\\n you\\'re saying that you\\'re gonna become the Fifth Hokage?\\n I don\\'t care if you are the 3rd Hokage\\'s grandson or not.\\n It\\'s not that easy to be a Hokage!\\n If you want it that bad, you\\'re gonna have to beat me first!\\n Next episode:  \"My Name Is Konohamaru!\"\\n Watch my outstanding performance!\\n'"
      ]
     },
     "execution_count": 68,
     "metadata": {},
     "output_type": "execute_result"
    }
   ],
   "source": [
    "script = df.iloc[0]['script']\n",
    "script"
   ]
  },
  {
   "cell_type": "code",
   "execution_count": 72,
   "metadata": {},
   "outputs": [
    {
     "data": {
      "text/plain": [
       "['A long time ago, a powerful demon fox appeared with nine tails.',\n",
       " 'With its powerful tails,\\n it could smash mountains and create tidal waves.',\n",
       " 'A band of Ninjas rose to defend their village from attack.']"
      ]
     },
     "execution_count": 72,
     "metadata": {},
     "output_type": "execute_result"
    }
   ],
   "source": [
    "script_sentences = sent_tokenize(script)\n",
    "script_sentences[:3]"
   ]
  },
  {
   "cell_type": "code",
   "execution_count": 73,
   "metadata": {},
   "outputs": [],
   "source": [
    "sentence_batch_size = 20\n",
    "script_batches= [ ]\n",
    "for index in range(0,len(script_sentences), sentence_batch_size):\n",
    "    sentence = \" \".join(script_sentences[index:index + sentence_batch_size])\n",
    "    script_batches.append(sentence)"
   ]
  },
  {
   "cell_type": "code",
   "execution_count": 74,
   "metadata": {},
   "outputs": [
    {
     "data": {
      "text/plain": [
       "[\"A long time ago, a powerful demon fox appeared with nine tails. With its powerful tails,\\n it could smash mountains and create tidal waves. A band of Ninjas rose to defend their village from attack. We have to wait until the Fourth Hokage gets here! We can't let it get any closer to our village! One great Ninja was able to imprison the monster,\\n but died in the process. This Ninja was known as… the Fourth Hokage. Naruto! Why did you do such a thing?! You're really gonna get it this time! I don't care! You know your problem? You can't do the things I do! Only I can do this! I'm better than all of you! Believe it! There's a problem, sir! Lord Hokage! What is it? Did that Naruto do something again?\",\n",
       " 'Yes. He climbed onto the Mountainside Images…\\n And he vandalized and graffitied all over them! Wait! Ha ha…\\n Why should I? Hey, Naruto! How did you suddenly get here, lruka Sensei? The question is what are you doing here when you should be in class now? Now listen, Naruto. You failed the last graduation test and the one before that. This is no time to be goofing off, you fool! We will have a re-test on the Transformation Jutsu! Even those who already passed will take it! Whaaaat?! Sakura Haruno. Here I go…\\n Transform! OK! I did it! Cha! Did you see that, Sasuke? Next, Sasuke Uchiha.',\n",
       " 'Yes. O-OK.\\n Next, Naruto Uzumaki. This is a real pain. And it\\'s all your fault. Like I care!! OK…\\n Good luck, Naruto…\\n Transform! How was it? I call it the \"Sexy Jutsu\"! You fool! Stop making idiotic spells! Darn…\\n Darn…\\n I won\\'t let you go home unless you clean that all up. I don\\'t care…\\n There\\'s nobody home anyway. Naruto...\\n What is it this time? What I meant was…\\n If you clean up all that mess, I\\'ll buy you ramen tonight. Huh?! Yes! I-I will finish it no time! Enter: Naruto Uzumaki! Naruto. Why did you vandalize those faces?',\n",
       " \"Don't you know who the Hokage leaders are? Of course, I do! I know they earned the title Lord Hokage\\n because they were the best Ninja of their time, right? Especially the Fourth Hokage was a hero\\n who saved the village from the nine-tail demon fox. Then why did you do that? Because I'll become a Hokage myself. And I'll be the greatest Hokage of all time! So that everyone will finally learn to accept me! By the way, Sensei, I have a favor to ask. You want another bowl? Mmmm…No…\\n Can I borrow that Leaf headband for a while? This? No no! This is worn only by those who have graduated from Ninja Academy. Tomorrow, you will…\\n You're so mean! So that's why you took off your goggles…\\n Humph... One more bowl please! We are now about to begin the graduation test. When your name is called, proceed to the next classroom. The test is on the Clone Jutsu. Oh no…\\n Of all the…!\",\n",
       " \"That is my weakest Jutsu! But still… I will do it no matter what! Clone Jutsu! Disqualified! Iruka Sensei. His physical coordination and stamina are excellent. And he managed to come up with something. Isn't that enough for him to pass? Mizuki Sensei... All the others created three or more clones. Naruto created just one. And it's practically useless. I can't give him a passing mark. I 'm a Ninja now! You did well. That's my son. Congratulations for your graduation. I'll cook something good tonight! Look at that one. It's that boy. I hear he's the only one who failed.\",\n",
       " \"Serves him right. Imagine what would happen if he became a Ninja. Isn't that the boy who is actually…\\n Hey! We're not supposed to talk about that. Iruka. We need to talk later. Yes, sir. Iruka Sensei isn't trying to be mean to you. Then why only me? He wants you to become strong from the bottom of his heart. You both don't have parents. But I really wanted to graduate. Heh... I guess I have no choice…\\n I'll let you in on a big secret. Secret? Iruka. What is it, Lord Hokage? I know how you feel. But…\\n Naruto also grew up without knowing the love of his parents…like you. Let me go!\",\n",
       " \"My mom and dad are still out there fighting! Wake up, Iruka Sensei! What's the matter? Come to Lord Hokage's immediately! I heard that Naruto… stole the Scroll of Sealing. The Scroll of Sealing?! Let's see…\\n The first Jutsu is… Multi-Shadow Clone Jutsu? What?! Already a Jutsu I'm no good at? Lord Hokage! We can't forgive him! This is not just a prank! The Scroll is a dangerous item that the First Hokage sealed! Depending on its use…\\n It will be a major disaster if it is taken out of the village! Yes. Bring Naruto here at once! Yes, sir! Where did you go…Naruto? I will tell everyone in the village about this and eliminate Naruto…\\n Then the Scroll of Sealing will be mine! Hey you, Naruto!\",\n",
       " \"You found me..\\n And I've only learned one Jutsu. He's been practicing the Jutsu…\\n until he's become this exhausted and dirty…? Listen, listen! I'm gonna show you this amazing Jutsu! You're gonna let me graduate if I can do it! Isn't it true that I can graduate if I can do one of the Jutsu written here? Who told you that? Mizuki Sensei. He told me about this scroll, and this place…\\n Mizuki did?! I'm impressed you found this place. I see now…how it is. Naruto, give me that scroll. Wait, wait… What's going on here? Naruto! Never give him that scroll! It is a dangerous object that contains forbidden Ninja Jutsu. It was sealed. Mizuki used you in order to get it for himself! W-Wha--? Naruto, Iruka is only afraid of you holding that scroll!\",\n",
       " \"Huh? What are you saying, Mizuki! Don't let him fool you, Naruto! I will tell you the truth. Idiot! Don't do that! After an incident 12 years ago, a rule was created. A rule? That is, Naruto, a rule everybody but you knows. Except me?! What is it? Stop it, Mizuki! The rule forbids anyone from revealing that you are actually the Demon Fox Spirit! Huh? You are actually the Demon, Nine-Tailed Fox Spirit,\\n who killed Iruka's parents and destroyed our village! Stop it! Everyone has been deceiving you ever since. Didn't you find it strange? Why everyone hated you so much? No!\",\n",
       " \"No! No! No! No! Naruto…\\n Nobody accepts you. That's why Iruka hates you so much! Iruka... Naruto grew up without the love of parents. Everyone avoids him like the plague after what happened. That's why he keeps misbehaving. It's the only way for him to get any attention or acknowledgement. He pretends to be tough, but inside he is really hurting. Die, Naruto! Naruto! Get down! Why…? Because you and I are the same. After my parents died,\\n nobody paid attention to me or gave me any support. I wasn't a good student in school. I was the class clown… because I wanted people to notice me. I couldn't get noticed through excellence, so I kept doing stupid things.\",\n",
       " \"It was so hard. Isn't that right, Naruto? You felt so lonely…right? And you suffered inside, right? I'm sorry, Naruto…. If I had been more responsible, maybe you wouldn't have suffered so much. Don't make me laugh! Iruka has always hated you, ever since you killed his parents! He's just saying all that to get the Scroll of Sealing back! Naruto! Narutoooooo! He is not the type of kid who will change his mind. He will take revenge against our village using that scroll! Didn't you see his eyes? Those are the eyes of a Demon Fox. No… Naruto…isn't…like that at all! All I want is to kill Naruto and get the scroll. I'll take care of you later! I-I won't let you…\\n Well, well. Mizuki has a big mouth!\",\n",
       " \"Naruto feels worse than he's ever felt. He might unleash the power locked up inside him. The Scroll of Sealing is now with him. There's a slight chance he might actually release\\n the Nine-Tailed Fox Spirit sealed inside him! If that happens…\\n I've found him! Naruto! Everything that Mizuki said was a lie! Give me that scroll, quick! Mizuki is after the scroll! It can't be…\\n Why is it, Naruto? How…\\n did you know I wasn't Iruka…? Because I'm Iruka. I see. What's in it for you to protect the one who killed your family? I'm not gonna let a stupid idiot like you get that scroll! You're the idiot. Naruto is the same as me. Same? Anyone can do whatever he wants once he has the scroll. There is no way that that monster…\\n that Fox Spirit, won't take advantage of the power of that scroll!\",\n",
       " \"You're right…\\n I guess it was true all along! See, Iruka Sensei never really cared for me at all! ...if he was the Demon Fox Spirit. But Naruto is different! I know that he is an exceptional student. He works very hard,\\n and he's single-minded and clumsy at the same time. No one accepts him, but he knows the meaning of human suffering. He is not the Demon Fox Spirit. He's Naruto Uzumaki of the Village Hidden in the Leaves! You are so gullible. lruka! I was gonna take you down later, but I have changed my mind. Die! I guess this is the end for me…\\n Naruto?! You surprised me there, freak. If you ever lay a hand on Iruka Sensei, I'll kill you! Shut up! I can take care of a kid like you with a single blow! Why don't you try then? I'll strike you back a thousand-fold!\",\n",
       " \"Let's see you try! Show me what you can do, Demon Fox! Shadow Clone Jutsu! Naruto! You've…\\n Those aren't just images but actual clones! That's an advanced Ninjutsu! What's this…? What's the matter? C'mon! Weren't you gonna get me with one blow? Here! In that case… I'll come to you. I kinda got carried away. lruka Sensei, are you okay? Yeah. He's really something. Maybe it is true. Maybe he will surpass all the Hokage leaders…\\n Naruto, come over here. I'd like to give you something. Has anyone found Naruto yet?\",\n",
       " 'No. Darn, this is going to be bad…\\n There\\'s no need to worry anymore. Lord Hokage! He\\'ll be back soon. Sensei, how much longer? OK, you may open your eyes now. Congratulations…on your graduation. In celebration, we\\'ll have ramen tonight! Iruka Sensei! That hurts! Naruto…\\n I was going to lecture to you...\\n that the road gets more difficult now that you\\'re a Ninja. But I guess I\\'ll just wait to tell you that until we get to the ramen stand…\\n W-What do you want, you little shrimp? Quit following me! You\\'re smaller than me and\\n you\\'re saying that you\\'re gonna become the Fifth Hokage? I don\\'t care if you are the 3rd Hokage\\'s grandson or not. It\\'s not that easy to be a Hokage! If you want it that bad, you\\'re gonna have to beat me first! Next episode:  \"My Name Is Konohamaru!\" Watch my outstanding performance!']"
      ]
     },
     "execution_count": 74,
     "metadata": {},
     "output_type": "execute_result"
    }
   ],
   "source": [
    "script_batches"
   ]
  },
  {
   "cell_type": "code",
   "execution_count": 75,
   "metadata": {},
   "outputs": [],
   "source": [
    "theme_output = classifier(script_batches[:2], theme_list, multi_label=True)"
   ]
  },
  {
   "cell_type": "code",
   "execution_count": 76,
   "metadata": {},
   "outputs": [
    {
     "data": {
      "text/plain": [
       "[{'sequence': \"A long time ago, a powerful demon fox appeared with nine tails. With its powerful tails,\\n it could smash mountains and create tidal waves. A band of Ninjas rose to defend their village from attack. We have to wait until the Fourth Hokage gets here! We can't let it get any closer to our village! One great Ninja was able to imprison the monster,\\n but died in the process. This Ninja was known as… the Fourth Hokage. Naruto! Why did you do such a thing?! You're really gonna get it this time! I don't care! You know your problem? You can't do the things I do! Only I can do this! I'm better than all of you! Believe it! There's a problem, sir! Lord Hokage! What is it? Did that Naruto do something again?\",\n",
       "  'labels': ['betrayal',\n",
       "   'battle',\n",
       "   'family',\n",
       "   'sacrifice',\n",
       "   'self development',\n",
       "   'hope',\n",
       "   'friendship',\n",
       "   'love'],\n",
       "  'scores': [0.9396896362304688,\n",
       "   0.8546874523162842,\n",
       "   0.737002432346344,\n",
       "   0.7349812388420105,\n",
       "   0.7284945249557495,\n",
       "   0.1990976780653,\n",
       "   0.05922291800379753,\n",
       "   0.04026173800230026]},\n",
       " {'sequence': 'Yes. He climbed onto the Mountainside Images…\\n And he vandalized and graffitied all over them! Wait! Ha ha…\\n Why should I? Hey, Naruto! How did you suddenly get here, lruka Sensei? The question is what are you doing here when you should be in class now? Now listen, Naruto. You failed the last graduation test and the one before that. This is no time to be goofing off, you fool! We will have a re-test on the Transformation Jutsu! Even those who already passed will take it! Whaaaat?! Sakura Haruno. Here I go…\\n Transform! OK! I did it! Cha! Did you see that, Sasuke? Next, Sasuke Uchiha.',\n",
       "  'labels': ['self development',\n",
       "   'battle',\n",
       "   'betrayal',\n",
       "   'family',\n",
       "   'sacrifice',\n",
       "   'hope',\n",
       "   'friendship',\n",
       "   'love'],\n",
       "  'scores': [0.867819607257843,\n",
       "   0.6581293940544128,\n",
       "   0.6457229852676392,\n",
       "   0.6422960162162781,\n",
       "   0.625882625579834,\n",
       "   0.2042403668165207,\n",
       "   0.08603303879499435,\n",
       "   0.028020678088068962]}]"
      ]
     },
     "execution_count": 76,
     "metadata": {},
     "output_type": "execute_result"
    }
   ],
   "source": [
    "theme_output"
   ]
  },
  {
   "cell_type": "code",
   "execution_count": 78,
   "metadata": {},
   "outputs": [],
   "source": [
    "# wrangle output\n",
    "themes={}\n",
    "for output in theme_output:\n",
    "    for label,score in zip(output['labels'],output['scores']):\n",
    "        if label not in themes:\n",
    "            themes[label] = []\n",
    "        themes[label].append(score)"
   ]
  },
  {
   "cell_type": "code",
   "execution_count": 95,
   "metadata": {},
   "outputs": [
    {
     "data": {
      "text/plain": [
       "{'betrayal': np.float64(0.792706310749054),\n",
       " 'battle': np.float64(0.7564084231853485),\n",
       " 'family': np.float64(0.689649224281311),\n",
       " 'sacrifice': np.float64(0.6804319322109222),\n",
       " 'self development': np.float64(0.7981570661067963),\n",
       " 'hope': np.float64(0.20166902244091034),\n",
       " 'friendship': np.float64(0.07262797839939594),\n",
       " 'love': np.float64(0.03414120804518461)}"
      ]
     },
     "execution_count": 95,
     "metadata": {},
     "output_type": "execute_result"
    }
   ],
   "source": [
    "themes"
   ]
  },
  {
   "cell_type": "code",
   "execution_count": 97,
   "metadata": {},
   "outputs": [
    {
     "data": {
      "text/plain": [
       "{'betrayal': 0.792706310749054,\n",
       " 'battle': 0.7564084231853485,\n",
       " 'family': 0.689649224281311,\n",
       " 'sacrifice': 0.6804319322109222,\n",
       " 'self development': 0.7981570661067963,\n",
       " 'hope': 0.20166902244091034,\n",
       " 'friendship': 0.07262797839939594,\n",
       " 'love': 0.03414120804518461}"
      ]
     },
     "execution_count": 97,
     "metadata": {},
     "output_type": "execute_result"
    }
   ],
   "source": [
    "themes = {key : (np.mean(np.array(val))) for key, val in themes.items()}\n",
    "themes"
   ]
  },
  {
   "cell_type": "code",
   "execution_count": 20,
   "metadata": {},
   "outputs": [],
   "source": [
    "def theme_scores(script):\n",
    "    script_sentences = sent_tokenize(script)\n",
    "    \n",
    "    sentence_batch_size = 20\n",
    "    script_batches= []\n",
    "    for index in range(0,len(script_sentences), sentence_batch_size):\n",
    "        sentence = \" \".join(script_sentences[index:index + sentence_batch_size])\n",
    "        script_batches.append(sentence)\n",
    "\n",
    "    theme_output = classifier(script_batches[:2], theme_list, multi_label=True)\n",
    "    themes={}\n",
    "    for output in theme_output:\n",
    "        for label,score in zip(output['labels'],output['scores']):\n",
    "            if label not in themes:\n",
    "                themes[label] = []\n",
    "            themes[label].append(score)\n",
    "    themes = {key : np.mean(np.array(val)) for key, val in themes.items()}\n",
    "    return themes"
   ]
  },
  {
   "cell_type": "code",
   "execution_count": 21,
   "metadata": {},
   "outputs": [],
   "source": [
    "d =df.head(10)"
   ]
  },
  {
   "cell_type": "code",
   "execution_count": 22,
   "metadata": {},
   "outputs": [
    {
     "data": {
      "text/html": [
       "<div>\n",
       "<style scoped>\n",
       "    .dataframe tbody tr th:only-of-type {\n",
       "        vertical-align: middle;\n",
       "    }\n",
       "\n",
       "    .dataframe tbody tr th {\n",
       "        vertical-align: top;\n",
       "    }\n",
       "\n",
       "    .dataframe thead th {\n",
       "        text-align: right;\n",
       "    }\n",
       "</style>\n",
       "<table border=\"1\" class=\"dataframe\">\n",
       "  <thead>\n",
       "    <tr style=\"text-align: right;\">\n",
       "      <th></th>\n",
       "      <th>episode</th>\n",
       "      <th>script</th>\n",
       "    </tr>\n",
       "  </thead>\n",
       "  <tbody>\n",
       "    <tr>\n",
       "      <th>0</th>\n",
       "      <td>1</td>\n",
       "      <td>A long time ago, a powerful demon fox appeared...</td>\n",
       "    </tr>\n",
       "    <tr>\n",
       "      <th>1</th>\n",
       "      <td>2</td>\n",
       "      <td>C'mon!\\n Running like a fugitive,\\n Being chas...</td>\n",
       "    </tr>\n",
       "    <tr>\n",
       "      <th>2</th>\n",
       "      <td>3</td>\n",
       "      <td>C'mon!\\n Running like a fugitive,\\n Being chas...</td>\n",
       "    </tr>\n",
       "    <tr>\n",
       "      <th>3</th>\n",
       "      <td>4</td>\n",
       "      <td>C'mon!\\n Running like a fugitive,\\n Being chas...</td>\n",
       "    </tr>\n",
       "    <tr>\n",
       "      <th>4</th>\n",
       "      <td>5</td>\n",
       "      <td>C'mon!\\n Running like a fugitive,\\n Being chas...</td>\n",
       "    </tr>\n",
       "    <tr>\n",
       "      <th>5</th>\n",
       "      <td>6</td>\n",
       "      <td>C'mon!\\n Running like a fugitive,\\n Being chas...</td>\n",
       "    </tr>\n",
       "    <tr>\n",
       "      <th>6</th>\n",
       "      <td>7</td>\n",
       "      <td>C'mon!\\n Running like a fugitive,\\n Being chas...</td>\n",
       "    </tr>\n",
       "    <tr>\n",
       "      <th>7</th>\n",
       "      <td>8</td>\n",
       "      <td>C'mon!\\n Running like a fugitive,\\n Being chas...</td>\n",
       "    </tr>\n",
       "    <tr>\n",
       "      <th>8</th>\n",
       "      <td>9</td>\n",
       "      <td>C'mon!\\n Running like a fugitive,\\n Being chas...</td>\n",
       "    </tr>\n",
       "    <tr>\n",
       "      <th>9</th>\n",
       "      <td>12</td>\n",
       "      <td>C'mon!\\n Running like a fugitive,\\n Being chas...</td>\n",
       "    </tr>\n",
       "  </tbody>\n",
       "</table>\n",
       "</div>"
      ],
      "text/plain": [
       "   episode                                             script\n",
       "0        1  A long time ago, a powerful demon fox appeared...\n",
       "1        2  C'mon!\\n Running like a fugitive,\\n Being chas...\n",
       "2        3  C'mon!\\n Running like a fugitive,\\n Being chas...\n",
       "3        4  C'mon!\\n Running like a fugitive,\\n Being chas...\n",
       "4        5  C'mon!\\n Running like a fugitive,\\n Being chas...\n",
       "5        6  C'mon!\\n Running like a fugitive,\\n Being chas...\n",
       "6        7  C'mon!\\n Running like a fugitive,\\n Being chas...\n",
       "7        8  C'mon!\\n Running like a fugitive,\\n Being chas...\n",
       "8        9  C'mon!\\n Running like a fugitive,\\n Being chas...\n",
       "9       12  C'mon!\\n Running like a fugitive,\\n Being chas..."
      ]
     },
     "execution_count": 22,
     "metadata": {},
     "output_type": "execute_result"
    }
   ],
   "source": [
    "d"
   ]
  },
  {
   "cell_type": "code",
   "execution_count": 23,
   "metadata": {},
   "outputs": [
    {
     "name": "stderr",
     "output_type": "stream",
     "text": [
      "You seem to be using the pipelines sequentially on GPU. In order to maximize efficiency please use a dataset\n"
     ]
    }
   ],
   "source": [
    "output_themes = d['script'].apply(theme_scores)"
   ]
  },
  {
   "cell_type": "code",
   "execution_count": 24,
   "metadata": {},
   "outputs": [
    {
     "data": {
      "text/plain": [
       "0    {'betrayal': 0.792706310749054, 'battle': 0.75...\n",
       "1    {'sacrifice': 0.5707018971443176, 'self develo...\n",
       "2    {'sacrifice': 0.6615151166915894, 'self develo...\n",
       "3    {'sacrifice': 0.6521520912647247, 'battle': 0....\n",
       "4    {'betrayal': 0.8911022841930389, 'battle': 0.7...\n",
       "5    {'battle': 0.5873122960329056, 'sacrifice': 0....\n",
       "6    {'sacrifice': 0.8036543428897858, 'battle': 0....\n",
       "7    {'family': 0.8762916624546051, 'sacrifice': 0....\n",
       "8    {'battle': 0.9470804929733276, 'sacrifice': 0....\n",
       "9    {'battle': 0.7906561493873596, 'sacrifice': 0....\n",
       "Name: script, dtype: object"
      ]
     },
     "execution_count": 24,
     "metadata": {},
     "output_type": "execute_result"
    }
   ],
   "source": [
    "output_themes\n"
   ]
  },
  {
   "cell_type": "code",
   "execution_count": 25,
   "metadata": {},
   "outputs": [
    {
     "data": {
      "text/html": [
       "<div>\n",
       "<style scoped>\n",
       "    .dataframe tbody tr th:only-of-type {\n",
       "        vertical-align: middle;\n",
       "    }\n",
       "\n",
       "    .dataframe tbody tr th {\n",
       "        vertical-align: top;\n",
       "    }\n",
       "\n",
       "    .dataframe thead th {\n",
       "        text-align: right;\n",
       "    }\n",
       "</style>\n",
       "<table border=\"1\" class=\"dataframe\">\n",
       "  <thead>\n",
       "    <tr style=\"text-align: right;\">\n",
       "      <th></th>\n",
       "      <th>betrayal</th>\n",
       "      <th>battle</th>\n",
       "      <th>family</th>\n",
       "      <th>sacrifice</th>\n",
       "      <th>self development</th>\n",
       "      <th>hope</th>\n",
       "      <th>friendship</th>\n",
       "      <th>love</th>\n",
       "    </tr>\n",
       "  </thead>\n",
       "  <tbody>\n",
       "    <tr>\n",
       "      <th>0</th>\n",
       "      <td>0.792706</td>\n",
       "      <td>0.756408</td>\n",
       "      <td>0.689649</td>\n",
       "      <td>0.680432</td>\n",
       "      <td>0.798157</td>\n",
       "      <td>0.201669</td>\n",
       "      <td>0.072628</td>\n",
       "      <td>0.034141</td>\n",
       "    </tr>\n",
       "    <tr>\n",
       "      <th>1</th>\n",
       "      <td>0.429943</td>\n",
       "      <td>0.684844</td>\n",
       "      <td>0.662919</td>\n",
       "      <td>0.570702</td>\n",
       "      <td>0.482807</td>\n",
       "      <td>0.154533</td>\n",
       "      <td>0.046260</td>\n",
       "      <td>0.173260</td>\n",
       "    </tr>\n",
       "    <tr>\n",
       "      <th>2</th>\n",
       "      <td>0.339490</td>\n",
       "      <td>0.707885</td>\n",
       "      <td>0.553195</td>\n",
       "      <td>0.661515</td>\n",
       "      <td>0.724140</td>\n",
       "      <td>0.573632</td>\n",
       "      <td>0.342218</td>\n",
       "      <td>0.394862</td>\n",
       "    </tr>\n",
       "    <tr>\n",
       "      <th>3</th>\n",
       "      <td>0.554723</td>\n",
       "      <td>0.723673</td>\n",
       "      <td>0.468861</td>\n",
       "      <td>0.652152</td>\n",
       "      <td>0.861326</td>\n",
       "      <td>0.445292</td>\n",
       "      <td>0.525341</td>\n",
       "      <td>0.315331</td>\n",
       "    </tr>\n",
       "    <tr>\n",
       "      <th>4</th>\n",
       "      <td>0.891102</td>\n",
       "      <td>0.783642</td>\n",
       "      <td>0.579165</td>\n",
       "      <td>0.585847</td>\n",
       "      <td>0.550455</td>\n",
       "      <td>0.093763</td>\n",
       "      <td>0.073856</td>\n",
       "      <td>0.054070</td>\n",
       "    </tr>\n",
       "    <tr>\n",
       "      <th>5</th>\n",
       "      <td>0.337699</td>\n",
       "      <td>0.587312</td>\n",
       "      <td>0.790307</td>\n",
       "      <td>0.858296</td>\n",
       "      <td>0.771086</td>\n",
       "      <td>0.387565</td>\n",
       "      <td>0.397151</td>\n",
       "      <td>0.361572</td>\n",
       "    </tr>\n",
       "    <tr>\n",
       "      <th>6</th>\n",
       "      <td>0.631950</td>\n",
       "      <td>0.854286</td>\n",
       "      <td>0.482102</td>\n",
       "      <td>0.803654</td>\n",
       "      <td>0.696881</td>\n",
       "      <td>0.307072</td>\n",
       "      <td>0.266852</td>\n",
       "      <td>0.383653</td>\n",
       "    </tr>\n",
       "    <tr>\n",
       "      <th>7</th>\n",
       "      <td>0.695014</td>\n",
       "      <td>0.893384</td>\n",
       "      <td>0.876292</td>\n",
       "      <td>0.842824</td>\n",
       "      <td>0.754300</td>\n",
       "      <td>0.315381</td>\n",
       "      <td>0.314524</td>\n",
       "      <td>0.128988</td>\n",
       "    </tr>\n",
       "    <tr>\n",
       "      <th>8</th>\n",
       "      <td>0.576206</td>\n",
       "      <td>0.947080</td>\n",
       "      <td>0.697280</td>\n",
       "      <td>0.793191</td>\n",
       "      <td>0.795375</td>\n",
       "      <td>0.393363</td>\n",
       "      <td>0.157878</td>\n",
       "      <td>0.156073</td>\n",
       "    </tr>\n",
       "    <tr>\n",
       "      <th>9</th>\n",
       "      <td>0.380064</td>\n",
       "      <td>0.790656</td>\n",
       "      <td>0.852948</td>\n",
       "      <td>0.717417</td>\n",
       "      <td>0.849929</td>\n",
       "      <td>0.431066</td>\n",
       "      <td>0.530748</td>\n",
       "      <td>0.377739</td>\n",
       "    </tr>\n",
       "  </tbody>\n",
       "</table>\n",
       "</div>"
      ],
      "text/plain": [
       "   betrayal    battle    family  sacrifice  self development      hope  \\\n",
       "0  0.792706  0.756408  0.689649   0.680432          0.798157  0.201669   \n",
       "1  0.429943  0.684844  0.662919   0.570702          0.482807  0.154533   \n",
       "2  0.339490  0.707885  0.553195   0.661515          0.724140  0.573632   \n",
       "3  0.554723  0.723673  0.468861   0.652152          0.861326  0.445292   \n",
       "4  0.891102  0.783642  0.579165   0.585847          0.550455  0.093763   \n",
       "5  0.337699  0.587312  0.790307   0.858296          0.771086  0.387565   \n",
       "6  0.631950  0.854286  0.482102   0.803654          0.696881  0.307072   \n",
       "7  0.695014  0.893384  0.876292   0.842824          0.754300  0.315381   \n",
       "8  0.576206  0.947080  0.697280   0.793191          0.795375  0.393363   \n",
       "9  0.380064  0.790656  0.852948   0.717417          0.849929  0.431066   \n",
       "\n",
       "   friendship      love  \n",
       "0    0.072628  0.034141  \n",
       "1    0.046260  0.173260  \n",
       "2    0.342218  0.394862  \n",
       "3    0.525341  0.315331  \n",
       "4    0.073856  0.054070  \n",
       "5    0.397151  0.361572  \n",
       "6    0.266852  0.383653  \n",
       "7    0.314524  0.128988  \n",
       "8    0.157878  0.156073  \n",
       "9    0.530748  0.377739  "
      ]
     },
     "execution_count": 25,
     "metadata": {},
     "output_type": "execute_result"
    }
   ],
   "source": [
    "theme_df = pd.DataFrame(output_themes.tolist())\n",
    "theme_df"
   ]
  },
  {
   "cell_type": "code",
   "execution_count": 26,
   "metadata": {},
   "outputs": [
    {
     "name": "stderr",
     "output_type": "stream",
     "text": [
      "C:\\Users\\VJ\\AppData\\Local\\Temp\\ipykernel_27424\\3530307657.py:1: SettingWithCopyWarning: \n",
      "A value is trying to be set on a copy of a slice from a DataFrame.\n",
      "Try using .loc[row_indexer,col_indexer] = value instead\n",
      "\n",
      "See the caveats in the documentation: https://pandas.pydata.org/pandas-docs/stable/user_guide/indexing.html#returning-a-view-versus-a-copy\n",
      "  d[theme_df.columns] = theme_df\n",
      "C:\\Users\\VJ\\AppData\\Local\\Temp\\ipykernel_27424\\3530307657.py:1: SettingWithCopyWarning: \n",
      "A value is trying to be set on a copy of a slice from a DataFrame.\n",
      "Try using .loc[row_indexer,col_indexer] = value instead\n",
      "\n",
      "See the caveats in the documentation: https://pandas.pydata.org/pandas-docs/stable/user_guide/indexing.html#returning-a-view-versus-a-copy\n",
      "  d[theme_df.columns] = theme_df\n",
      "C:\\Users\\VJ\\AppData\\Local\\Temp\\ipykernel_27424\\3530307657.py:1: SettingWithCopyWarning: \n",
      "A value is trying to be set on a copy of a slice from a DataFrame.\n",
      "Try using .loc[row_indexer,col_indexer] = value instead\n",
      "\n",
      "See the caveats in the documentation: https://pandas.pydata.org/pandas-docs/stable/user_guide/indexing.html#returning-a-view-versus-a-copy\n",
      "  d[theme_df.columns] = theme_df\n",
      "C:\\Users\\VJ\\AppData\\Local\\Temp\\ipykernel_27424\\3530307657.py:1: SettingWithCopyWarning: \n",
      "A value is trying to be set on a copy of a slice from a DataFrame.\n",
      "Try using .loc[row_indexer,col_indexer] = value instead\n",
      "\n",
      "See the caveats in the documentation: https://pandas.pydata.org/pandas-docs/stable/user_guide/indexing.html#returning-a-view-versus-a-copy\n",
      "  d[theme_df.columns] = theme_df\n",
      "C:\\Users\\VJ\\AppData\\Local\\Temp\\ipykernel_27424\\3530307657.py:1: SettingWithCopyWarning: \n",
      "A value is trying to be set on a copy of a slice from a DataFrame.\n",
      "Try using .loc[row_indexer,col_indexer] = value instead\n",
      "\n",
      "See the caveats in the documentation: https://pandas.pydata.org/pandas-docs/stable/user_guide/indexing.html#returning-a-view-versus-a-copy\n",
      "  d[theme_df.columns] = theme_df\n",
      "C:\\Users\\VJ\\AppData\\Local\\Temp\\ipykernel_27424\\3530307657.py:1: SettingWithCopyWarning: \n",
      "A value is trying to be set on a copy of a slice from a DataFrame.\n",
      "Try using .loc[row_indexer,col_indexer] = value instead\n",
      "\n",
      "See the caveats in the documentation: https://pandas.pydata.org/pandas-docs/stable/user_guide/indexing.html#returning-a-view-versus-a-copy\n",
      "  d[theme_df.columns] = theme_df\n",
      "C:\\Users\\VJ\\AppData\\Local\\Temp\\ipykernel_27424\\3530307657.py:1: SettingWithCopyWarning: \n",
      "A value is trying to be set on a copy of a slice from a DataFrame.\n",
      "Try using .loc[row_indexer,col_indexer] = value instead\n",
      "\n",
      "See the caveats in the documentation: https://pandas.pydata.org/pandas-docs/stable/user_guide/indexing.html#returning-a-view-versus-a-copy\n",
      "  d[theme_df.columns] = theme_df\n",
      "C:\\Users\\VJ\\AppData\\Local\\Temp\\ipykernel_27424\\3530307657.py:1: SettingWithCopyWarning: \n",
      "A value is trying to be set on a copy of a slice from a DataFrame.\n",
      "Try using .loc[row_indexer,col_indexer] = value instead\n",
      "\n",
      "See the caveats in the documentation: https://pandas.pydata.org/pandas-docs/stable/user_guide/indexing.html#returning-a-view-versus-a-copy\n",
      "  d[theme_df.columns] = theme_df\n"
     ]
    }
   ],
   "source": [
    "d[theme_df.columns] = theme_df\n"
   ]
  },
  {
   "cell_type": "code",
   "execution_count": 27,
   "metadata": {},
   "outputs": [
    {
     "data": {
      "text/html": [
       "<div>\n",
       "<style scoped>\n",
       "    .dataframe tbody tr th:only-of-type {\n",
       "        vertical-align: middle;\n",
       "    }\n",
       "\n",
       "    .dataframe tbody tr th {\n",
       "        vertical-align: top;\n",
       "    }\n",
       "\n",
       "    .dataframe thead th {\n",
       "        text-align: right;\n",
       "    }\n",
       "</style>\n",
       "<table border=\"1\" class=\"dataframe\">\n",
       "  <thead>\n",
       "    <tr style=\"text-align: right;\">\n",
       "      <th></th>\n",
       "      <th>episode</th>\n",
       "      <th>script</th>\n",
       "      <th>betrayal</th>\n",
       "      <th>battle</th>\n",
       "      <th>family</th>\n",
       "      <th>sacrifice</th>\n",
       "      <th>self development</th>\n",
       "      <th>hope</th>\n",
       "      <th>friendship</th>\n",
       "      <th>love</th>\n",
       "    </tr>\n",
       "  </thead>\n",
       "  <tbody>\n",
       "    <tr>\n",
       "      <th>0</th>\n",
       "      <td>1</td>\n",
       "      <td>A long time ago, a powerful demon fox appeared...</td>\n",
       "      <td>0.792706</td>\n",
       "      <td>0.756408</td>\n",
       "      <td>0.689649</td>\n",
       "      <td>0.680432</td>\n",
       "      <td>0.798157</td>\n",
       "      <td>0.201669</td>\n",
       "      <td>0.072628</td>\n",
       "      <td>0.034141</td>\n",
       "    </tr>\n",
       "    <tr>\n",
       "      <th>1</th>\n",
       "      <td>2</td>\n",
       "      <td>C'mon!\\n Running like a fugitive,\\n Being chas...</td>\n",
       "      <td>0.429943</td>\n",
       "      <td>0.684844</td>\n",
       "      <td>0.662919</td>\n",
       "      <td>0.570702</td>\n",
       "      <td>0.482807</td>\n",
       "      <td>0.154533</td>\n",
       "      <td>0.046260</td>\n",
       "      <td>0.173260</td>\n",
       "    </tr>\n",
       "    <tr>\n",
       "      <th>2</th>\n",
       "      <td>3</td>\n",
       "      <td>C'mon!\\n Running like a fugitive,\\n Being chas...</td>\n",
       "      <td>0.339490</td>\n",
       "      <td>0.707885</td>\n",
       "      <td>0.553195</td>\n",
       "      <td>0.661515</td>\n",
       "      <td>0.724140</td>\n",
       "      <td>0.573632</td>\n",
       "      <td>0.342218</td>\n",
       "      <td>0.394862</td>\n",
       "    </tr>\n",
       "    <tr>\n",
       "      <th>3</th>\n",
       "      <td>4</td>\n",
       "      <td>C'mon!\\n Running like a fugitive,\\n Being chas...</td>\n",
       "      <td>0.554723</td>\n",
       "      <td>0.723673</td>\n",
       "      <td>0.468861</td>\n",
       "      <td>0.652152</td>\n",
       "      <td>0.861326</td>\n",
       "      <td>0.445292</td>\n",
       "      <td>0.525341</td>\n",
       "      <td>0.315331</td>\n",
       "    </tr>\n",
       "    <tr>\n",
       "      <th>4</th>\n",
       "      <td>5</td>\n",
       "      <td>C'mon!\\n Running like a fugitive,\\n Being chas...</td>\n",
       "      <td>0.891102</td>\n",
       "      <td>0.783642</td>\n",
       "      <td>0.579165</td>\n",
       "      <td>0.585847</td>\n",
       "      <td>0.550455</td>\n",
       "      <td>0.093763</td>\n",
       "      <td>0.073856</td>\n",
       "      <td>0.054070</td>\n",
       "    </tr>\n",
       "    <tr>\n",
       "      <th>5</th>\n",
       "      <td>6</td>\n",
       "      <td>C'mon!\\n Running like a fugitive,\\n Being chas...</td>\n",
       "      <td>0.337699</td>\n",
       "      <td>0.587312</td>\n",
       "      <td>0.790307</td>\n",
       "      <td>0.858296</td>\n",
       "      <td>0.771086</td>\n",
       "      <td>0.387565</td>\n",
       "      <td>0.397151</td>\n",
       "      <td>0.361572</td>\n",
       "    </tr>\n",
       "    <tr>\n",
       "      <th>6</th>\n",
       "      <td>7</td>\n",
       "      <td>C'mon!\\n Running like a fugitive,\\n Being chas...</td>\n",
       "      <td>0.631950</td>\n",
       "      <td>0.854286</td>\n",
       "      <td>0.482102</td>\n",
       "      <td>0.803654</td>\n",
       "      <td>0.696881</td>\n",
       "      <td>0.307072</td>\n",
       "      <td>0.266852</td>\n",
       "      <td>0.383653</td>\n",
       "    </tr>\n",
       "    <tr>\n",
       "      <th>7</th>\n",
       "      <td>8</td>\n",
       "      <td>C'mon!\\n Running like a fugitive,\\n Being chas...</td>\n",
       "      <td>0.695014</td>\n",
       "      <td>0.893384</td>\n",
       "      <td>0.876292</td>\n",
       "      <td>0.842824</td>\n",
       "      <td>0.754300</td>\n",
       "      <td>0.315381</td>\n",
       "      <td>0.314524</td>\n",
       "      <td>0.128988</td>\n",
       "    </tr>\n",
       "    <tr>\n",
       "      <th>8</th>\n",
       "      <td>9</td>\n",
       "      <td>C'mon!\\n Running like a fugitive,\\n Being chas...</td>\n",
       "      <td>0.576206</td>\n",
       "      <td>0.947080</td>\n",
       "      <td>0.697280</td>\n",
       "      <td>0.793191</td>\n",
       "      <td>0.795375</td>\n",
       "      <td>0.393363</td>\n",
       "      <td>0.157878</td>\n",
       "      <td>0.156073</td>\n",
       "    </tr>\n",
       "    <tr>\n",
       "      <th>9</th>\n",
       "      <td>12</td>\n",
       "      <td>C'mon!\\n Running like a fugitive,\\n Being chas...</td>\n",
       "      <td>0.380064</td>\n",
       "      <td>0.790656</td>\n",
       "      <td>0.852948</td>\n",
       "      <td>0.717417</td>\n",
       "      <td>0.849929</td>\n",
       "      <td>0.431066</td>\n",
       "      <td>0.530748</td>\n",
       "      <td>0.377739</td>\n",
       "    </tr>\n",
       "  </tbody>\n",
       "</table>\n",
       "</div>"
      ],
      "text/plain": [
       "   episode                                             script  betrayal  \\\n",
       "0        1  A long time ago, a powerful demon fox appeared...  0.792706   \n",
       "1        2  C'mon!\\n Running like a fugitive,\\n Being chas...  0.429943   \n",
       "2        3  C'mon!\\n Running like a fugitive,\\n Being chas...  0.339490   \n",
       "3        4  C'mon!\\n Running like a fugitive,\\n Being chas...  0.554723   \n",
       "4        5  C'mon!\\n Running like a fugitive,\\n Being chas...  0.891102   \n",
       "5        6  C'mon!\\n Running like a fugitive,\\n Being chas...  0.337699   \n",
       "6        7  C'mon!\\n Running like a fugitive,\\n Being chas...  0.631950   \n",
       "7        8  C'mon!\\n Running like a fugitive,\\n Being chas...  0.695014   \n",
       "8        9  C'mon!\\n Running like a fugitive,\\n Being chas...  0.576206   \n",
       "9       12  C'mon!\\n Running like a fugitive,\\n Being chas...  0.380064   \n",
       "\n",
       "     battle    family  sacrifice  self development      hope  friendship  \\\n",
       "0  0.756408  0.689649   0.680432          0.798157  0.201669    0.072628   \n",
       "1  0.684844  0.662919   0.570702          0.482807  0.154533    0.046260   \n",
       "2  0.707885  0.553195   0.661515          0.724140  0.573632    0.342218   \n",
       "3  0.723673  0.468861   0.652152          0.861326  0.445292    0.525341   \n",
       "4  0.783642  0.579165   0.585847          0.550455  0.093763    0.073856   \n",
       "5  0.587312  0.790307   0.858296          0.771086  0.387565    0.397151   \n",
       "6  0.854286  0.482102   0.803654          0.696881  0.307072    0.266852   \n",
       "7  0.893384  0.876292   0.842824          0.754300  0.315381    0.314524   \n",
       "8  0.947080  0.697280   0.793191          0.795375  0.393363    0.157878   \n",
       "9  0.790656  0.852948   0.717417          0.849929  0.431066    0.530748   \n",
       "\n",
       "       love  \n",
       "0  0.034141  \n",
       "1  0.173260  \n",
       "2  0.394862  \n",
       "3  0.315331  \n",
       "4  0.054070  \n",
       "5  0.361572  \n",
       "6  0.383653  \n",
       "7  0.128988  \n",
       "8  0.156073  \n",
       "9  0.377739  "
      ]
     },
     "execution_count": 27,
     "metadata": {},
     "output_type": "execute_result"
    }
   ],
   "source": [
    "d"
   ]
  },
  {
   "cell_type": "code",
   "execution_count": null,
   "metadata": {},
   "outputs": [],
   "source": []
  }
 ],
 "metadata": {
  "kernelspec": {
   "display_name": "torch-gpu",
   "language": "python",
   "name": "python3"
  },
  "language_info": {
   "codemirror_mode": {
    "name": "ipython",
    "version": 3
   },
   "file_extension": ".py",
   "mimetype": "text/x-python",
   "name": "python",
   "nbconvert_exporter": "python",
   "pygments_lexer": "ipython3",
   "version": "3.10.16"
  }
 },
 "nbformat": 4,
 "nbformat_minor": 2
}
